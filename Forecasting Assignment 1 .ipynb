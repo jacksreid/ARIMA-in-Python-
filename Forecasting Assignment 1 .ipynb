{
 "cells": [
  {
   "cell_type": "code",
   "execution_count": 7,
   "id": "d37128ff",
   "metadata": {},
   "outputs": [],
   "source": [
    "%reset -f\n",
    "\n",
    "import pandas            as pd\n",
    "import matplotlib.pyplot as plt\n",
    "import statsmodels.api   as sm\n",
    "import seaborn           as sns\n",
    "import numpy             as np\n",
    "\n",
    "from datetime                    import datetime\n",
    "from statsmodels.tsa.stattools   import adfuller\n",
    "from statsmodels.tsa.arima.model import ARIMA "
   ]
  },
  {
   "cell_type": "markdown",
   "id": "b4b1dfa4",
   "metadata": {},
   "source": [
    "### setting up parematers for plot "
   ]
  },
  {
   "cell_type": "code",
   "execution_count": 72,
   "id": "c017bb89",
   "metadata": {},
   "outputs": [],
   "source": [
    "sns.set_style('darkgrid')\n",
    "pd.plotting.register_matplotlib_converters()\n",
    "\n",
    "#default fig size \n",
    "\n",
    "sns.mpl.rc('figure',figsize=(16,6))"
   ]
  },
  {
   "cell_type": "markdown",
   "id": "9b79cc28",
   "metadata": {},
   "source": [
    "### loading data "
   ]
  },
  {
   "cell_type": "code",
   "execution_count": 71,
   "id": "b3f427eb",
   "metadata": {},
   "outputs": [],
   "source": [
    "df = pd.read_csv('NSWIncome.csv')"
   ]
  },
  {
   "cell_type": "code",
   "execution_count": 65,
   "id": "1491ba4a",
   "metadata": {
    "scrolled": true
   },
   "outputs": [
    {
     "data": {
      "text/html": [
       "<div>\n",
       "<style scoped>\n",
       "    .dataframe tbody tr th:only-of-type {\n",
       "        vertical-align: middle;\n",
       "    }\n",
       "\n",
       "    .dataframe tbody tr th {\n",
       "        vertical-align: top;\n",
       "    }\n",
       "\n",
       "    .dataframe thead th {\n",
       "        text-align: right;\n",
       "    }\n",
       "</style>\n",
       "<table border=\"1\" class=\"dataframe\">\n",
       "  <thead>\n",
       "    <tr style=\"text-align: right;\">\n",
       "      <th></th>\n",
       "      <th>Income</th>\n",
       "      <th>income_d1</th>\n",
       "    </tr>\n",
       "    <tr>\n",
       "      <th>year</th>\n",
       "      <th></th>\n",
       "      <th></th>\n",
       "    </tr>\n",
       "  </thead>\n",
       "  <tbody>\n",
       "    <tr>\n",
       "      <th>1991</th>\n",
       "      <td>32164</td>\n",
       "      <td>-324.0</td>\n",
       "    </tr>\n",
       "    <tr>\n",
       "      <th>1992</th>\n",
       "      <td>29530</td>\n",
       "      <td>-2634.0</td>\n",
       "    </tr>\n",
       "    <tr>\n",
       "      <th>1993</th>\n",
       "      <td>28916</td>\n",
       "      <td>-614.0</td>\n",
       "    </tr>\n",
       "    <tr>\n",
       "      <th>1994</th>\n",
       "      <td>30358</td>\n",
       "      <td>1442.0</td>\n",
       "    </tr>\n",
       "    <tr>\n",
       "      <th>1995</th>\n",
       "      <td>34289</td>\n",
       "      <td>3931.0</td>\n",
       "    </tr>\n",
       "  </tbody>\n",
       "</table>\n",
       "</div>"
      ],
      "text/plain": [
       "      Income  income_d1\n",
       "year                   \n",
       "1991   32164     -324.0\n",
       "1992   29530    -2634.0\n",
       "1993   28916     -614.0\n",
       "1994   30358     1442.0\n",
       "1995   34289     3931.0"
      ]
     },
     "execution_count": 65,
     "metadata": {},
     "output_type": "execute_result"
    }
   ],
   "source": [
    "df.head()"
   ]
  },
  {
   "cell_type": "code",
   "execution_count": 64,
   "id": "5c91163d",
   "metadata": {
    "scrolled": true
   },
   "outputs": [
    {
     "data": {
      "text/html": [
       "<div>\n",
       "<style scoped>\n",
       "    .dataframe tbody tr th:only-of-type {\n",
       "        vertical-align: middle;\n",
       "    }\n",
       "\n",
       "    .dataframe tbody tr th {\n",
       "        vertical-align: top;\n",
       "    }\n",
       "\n",
       "    .dataframe thead th {\n",
       "        text-align: right;\n",
       "    }\n",
       "</style>\n",
       "<table border=\"1\" class=\"dataframe\">\n",
       "  <thead>\n",
       "    <tr style=\"text-align: right;\">\n",
       "      <th></th>\n",
       "      <th>Income</th>\n",
       "      <th>income_d1</th>\n",
       "    </tr>\n",
       "    <tr>\n",
       "      <th>year</th>\n",
       "      <th></th>\n",
       "      <th></th>\n",
       "    </tr>\n",
       "  </thead>\n",
       "  <tbody>\n",
       "    <tr>\n",
       "      <th>2016</th>\n",
       "      <td>113852</td>\n",
       "      <td>4480.0</td>\n",
       "    </tr>\n",
       "    <tr>\n",
       "      <th>2017</th>\n",
       "      <td>117994</td>\n",
       "      <td>4142.0</td>\n",
       "    </tr>\n",
       "    <tr>\n",
       "      <th>2018</th>\n",
       "      <td>124138</td>\n",
       "      <td>6144.0</td>\n",
       "    </tr>\n",
       "    <tr>\n",
       "      <th>2019</th>\n",
       "      <td>131479</td>\n",
       "      <td>7341.0</td>\n",
       "    </tr>\n",
       "    <tr>\n",
       "      <th>2020</th>\n",
       "      <td>129736</td>\n",
       "      <td>-1743.0</td>\n",
       "    </tr>\n",
       "  </tbody>\n",
       "</table>\n",
       "</div>"
      ],
      "text/plain": [
       "      Income  income_d1\n",
       "year                   \n",
       "2016  113852     4480.0\n",
       "2017  117994     4142.0\n",
       "2018  124138     6144.0\n",
       "2019  131479     7341.0\n",
       "2020  129736    -1743.0"
      ]
     },
     "execution_count": 64,
     "metadata": {},
     "output_type": "execute_result"
    }
   ],
   "source": [
    "df.tail()\n"
   ]
  },
  {
   "cell_type": "code",
   "execution_count": null,
   "id": "18615de1",
   "metadata": {},
   "outputs": [],
   "source": []
  },
  {
   "cell_type": "markdown",
   "id": "3cb3ab86",
   "metadata": {},
   "source": [
    "\n",
    "\n"
   ]
  },
  {
   "cell_type": "markdown",
   "id": "0fcac8f3",
   "metadata": {},
   "source": [
    "### add axis titles and lables"
   ]
  },
  {
   "cell_type": "code",
   "execution_count": 12,
   "id": "f30048d1",
   "metadata": {},
   "outputs": [
    {
     "data": {
      "image/png": "[encoded data removed]",
      "text/plain": [
       "<Figure size 1152x432 with 1 Axes>"
      ]
     },
     "metadata": {},
     "output_type": "display_data"
    }
   ],
   "source": [
    "df['Income'].plot()\n",
    "plt.show()"
   ]
  },
  {
   "cell_type": "markdown",
   "id": "6dcea235",
   "metadata": {},
   "source": [
    "## generating first difference"
   ]
  },
  {
   "cell_type": "code",
   "execution_count": null,
   "id": "f0e052b6",
   "metadata": {},
   "outputs": [],
   "source": []
  },
  {
   "cell_type": "code",
   "execution_count": 74,
   "id": "6fd33cc2",
   "metadata": {},
   "outputs": [
    {
     "data": {
      "text/html": [
       "<div>\n",
       "<style scoped>\n",
       "    .dataframe tbody tr th:only-of-type {\n",
       "        vertical-align: middle;\n",
       "    }\n",
       "\n",
       "    .dataframe tbody tr th {\n",
       "        vertical-align: top;\n",
       "    }\n",
       "\n",
       "    .dataframe thead th {\n",
       "        text-align: right;\n",
       "    }\n",
       "</style>\n",
       "<table border=\"1\" class=\"dataframe\">\n",
       "  <thead>\n",
       "    <tr style=\"text-align: right;\">\n",
       "      <th></th>\n",
       "      <th>year</th>\n",
       "      <th>Income</th>\n",
       "      <th>income_d1</th>\n",
       "    </tr>\n",
       "  </thead>\n",
       "  <tbody>\n",
       "    <tr>\n",
       "      <th>1</th>\n",
       "      <td>1991</td>\n",
       "      <td>32164</td>\n",
       "      <td>-324.0</td>\n",
       "    </tr>\n",
       "    <tr>\n",
       "      <th>2</th>\n",
       "      <td>1992</td>\n",
       "      <td>29530</td>\n",
       "      <td>-2634.0</td>\n",
       "    </tr>\n",
       "    <tr>\n",
       "      <th>3</th>\n",
       "      <td>1993</td>\n",
       "      <td>28916</td>\n",
       "      <td>-614.0</td>\n",
       "    </tr>\n",
       "    <tr>\n",
       "      <th>4</th>\n",
       "      <td>1994</td>\n",
       "      <td>30358</td>\n",
       "      <td>1442.0</td>\n",
       "    </tr>\n",
       "    <tr>\n",
       "      <th>5</th>\n",
       "      <td>1995</td>\n",
       "      <td>34289</td>\n",
       "      <td>3931.0</td>\n",
       "    </tr>\n",
       "  </tbody>\n",
       "</table>\n",
       "</div>"
      ],
      "text/plain": [
       "   year  Income  income_d1\n",
       "1  1991   32164     -324.0\n",
       "2  1992   29530    -2634.0\n",
       "3  1993   28916     -614.0\n",
       "4  1994   30358     1442.0\n",
       "5  1995   34289     3931.0"
      ]
     },
     "execution_count": 74,
     "metadata": {},
     "output_type": "execute_result"
    }
   ],
   "source": [
    "df['income_d1'] = df['Income'].diff()\n",
    "df = df.dropna(axis=0)\n",
    "df.head()"
   ]
  },
  {
   "cell_type": "code",
   "execution_count": 75,
   "id": "0fc94841",
   "metadata": {},
   "outputs": [
    {
     "data": {
      "text/html": [
       "<div>\n",
       "<style scoped>\n",
       "    .dataframe tbody tr th:only-of-type {\n",
       "        vertical-align: middle;\n",
       "    }\n",
       "\n",
       "    .dataframe tbody tr th {\n",
       "        vertical-align: top;\n",
       "    }\n",
       "\n",
       "    .dataframe thead th {\n",
       "        text-align: right;\n",
       "    }\n",
       "</style>\n",
       "<table border=\"1\" class=\"dataframe\">\n",
       "  <thead>\n",
       "    <tr style=\"text-align: right;\">\n",
       "      <th></th>\n",
       "      <th>year</th>\n",
       "      <th>Income</th>\n",
       "      <th>income_d1</th>\n",
       "    </tr>\n",
       "  </thead>\n",
       "  <tbody>\n",
       "    <tr>\n",
       "      <th>26</th>\n",
       "      <td>2016</td>\n",
       "      <td>113852</td>\n",
       "      <td>4480.0</td>\n",
       "    </tr>\n",
       "    <tr>\n",
       "      <th>27</th>\n",
       "      <td>2017</td>\n",
       "      <td>117994</td>\n",
       "      <td>4142.0</td>\n",
       "    </tr>\n",
       "    <tr>\n",
       "      <th>28</th>\n",
       "      <td>2018</td>\n",
       "      <td>124138</td>\n",
       "      <td>6144.0</td>\n",
       "    </tr>\n",
       "    <tr>\n",
       "      <th>29</th>\n",
       "      <td>2019</td>\n",
       "      <td>131479</td>\n",
       "      <td>7341.0</td>\n",
       "    </tr>\n",
       "    <tr>\n",
       "      <th>30</th>\n",
       "      <td>2020</td>\n",
       "      <td>129736</td>\n",
       "      <td>-1743.0</td>\n",
       "    </tr>\n",
       "  </tbody>\n",
       "</table>\n",
       "</div>"
      ],
      "text/plain": [
       "    year  Income  income_d1\n",
       "26  2016  113852     4480.0\n",
       "27  2017  117994     4142.0\n",
       "28  2018  124138     6144.0\n",
       "29  2019  131479     7341.0\n",
       "30  2020  129736    -1743.0"
      ]
     },
     "execution_count": 75,
     "metadata": {},
     "output_type": "execute_result"
    }
   ],
   "source": [
    "df.tail()"
   ]
  },
  {
   "cell_type": "markdown",
   "id": "f6b1f289",
   "metadata": {},
   "source": [
    "\n",
    "## a) plot income and first diff  \n",
    "\n",
    "### * add dicky fuller test here also *\n",
    "add more to the graph"
   ]
  },
  {
   "cell_type": "code",
   "execution_count": 79,
   "id": "b6aed5d4",
   "metadata": {
    "scrolled": true
   },
   "outputs": [
    {
     "data": {
      "image/png": "[encoded data removed]",
      "text/plain": [
       "<Figure size 1152x432 with 1 Axes>"
      ]
     },
     "metadata": {},
     "output_type": "display_data"
    }
   ],
   "source": [
    "df['Income'].plot()\n",
    "df['income_d1'].plot()\n",
    "plt.legend()\n",
    "plt.show()"
   ]
  },
  {
   "cell_type": "code",
   "execution_count": null,
   "id": "434bdf69",
   "metadata": {},
   "outputs": [],
   "source": []
  },
  {
   "cell_type": "markdown",
   "id": "1ac7812e",
   "metadata": {},
   "source": [
    "## b) plot the ACF "
   ]
  },
  {
   "cell_type": "code",
   "execution_count": 15,
   "id": "054e192a",
   "metadata": {
    "scrolled": true
   },
   "outputs": [
    {
     "data": {
      "image/png": "[encoded data removed]",
      "text/plain": [
       "<Figure size 1152x432 with 1 Axes>"
      ]
     },
     "metadata": {},
     "output_type": "display_data"
    }
   ],
   "source": [
    "sm.graphics.tsa.plot_acf(df['income_d1'].values.squeeze(), lags=29) \n",
    "plt.show()"
   ]
  },
  {
   "cell_type": "markdown",
   "id": "2d09a7b6",
   "metadata": {},
   "source": [
    "gotta be an MA(1)"
   ]
  },
  {
   "cell_type": "markdown",
   "id": "a33985fd",
   "metadata": {},
   "source": [
    "## c) PACF function of an AR model "
   ]
  },
  {
   "cell_type": "code",
   "execution_count": 16,
   "id": "cb82ae31",
   "metadata": {},
   "outputs": [
    {
     "name": "stderr",
     "output_type": "stream",
     "text": [
      "/Users/jackreid/opt/anaconda3/lib/python3.9/site-packages/statsmodels/graphics/tsaplots.py:348: FutureWarning: The default method 'yw' can produce PACF values outside of the [-1,1] interval. After 0.13, the default will change tounadjusted Yule-Walker ('ywm'). You can use this method now by setting method='ywm'.\n",
      "  warnings.warn(\n"
     ]
    },
    {
     "data": {
      "image/png": "[encoded data removed]",
      "text/plain": [
       "<Figure size 1152x432 with 1 Axes>"
      ]
     },
     "metadata": {},
     "output_type": "display_data"
    }
   ],
   "source": [
    "sm.graphics.tsa.plot_pacf(df['income_d1'].values.squeeze(), lags=14) \n",
    "plt.show()"
   ]
  },
  {
   "cell_type": "markdown",
   "id": "8f393842",
   "metadata": {},
   "source": [
    "c) gotta be an AR(3) or AR(1) - explain reasoning \n",
    "\n",
    "\n",
    "\n",
    " "
   ]
  },
  {
   "cell_type": "code",
   "execution_count": 77,
   "id": "36e8352f",
   "metadata": {},
   "outputs": [
    {
     "name": "stderr",
     "output_type": "stream",
     "text": [
      "/Users/jackreid/opt/anaconda3/lib/python3.9/site-packages/statsmodels/tsa/base/tsa_model.py:471: ValueWarning: An unsupported index was provided and will be ignored when e.g. forecasting.\n",
      "  self._init_dates(dates, freq)\n",
      "/Users/jackreid/opt/anaconda3/lib/python3.9/site-packages/statsmodels/tsa/base/tsa_model.py:471: ValueWarning: An unsupported index was provided and will be ignored when e.g. forecasting.\n",
      "  self._init_dates(dates, freq)\n",
      "/Users/jackreid/opt/anaconda3/lib/python3.9/site-packages/statsmodels/tsa/base/tsa_model.py:471: ValueWarning: An unsupported index was provided and will be ignored when e.g. forecasting.\n",
      "  self._init_dates(dates, freq)\n"
     ]
    },
    {
     "name": "stdout",
     "output_type": "stream",
     "text": [
      "                               SARIMAX Results                                \n",
      "==============================================================================\n",
      "Dep. Variable:              income_d1   No. Observations:                   28\n",
      "Model:                 ARIMA(2, 0, 2)   Log Likelihood                -258.193\n",
      "Date:                Thu, 08 Sep 2022   AIC                            528.387\n",
      "Time:                        18:04:30   BIC                            536.380\n",
      "Sample:                             0   HQIC                           530.830\n",
      "                                 - 28                                         \n",
      "Covariance Type:                  opg                                         \n",
      "==============================================================================\n",
      "                 coef    std err          z      P>|z|      [0.025      0.975]\n",
      "------------------------------------------------------------------------------\n",
      "const       3288.8351    675.687      4.867      0.000    1964.512    4613.158\n",
      "ar.L1         -0.9893      0.214     -4.615      0.000      -1.409      -0.569\n",
      "ar.L2         -0.5416      0.236     -2.296      0.022      -1.004      -0.079\n",
      "ma.L1          1.7695      0.338      5.233      0.000       1.107       2.432\n",
      "ma.L2          0.9979      0.351      2.842      0.004       0.310       1.686\n",
      "sigma2      5.031e+06      0.004   1.28e+09      0.000    5.03e+06    5.03e+06\n",
      "===================================================================================\n",
      "Ljung-Box (L1) (Q):                   0.01   Jarque-Bera (JB):                 0.63\n",
      "Prob(Q):                              0.94   Prob(JB):                         0.73\n",
      "Heteroskedasticity (H):               0.84   Skew:                            -0.26\n",
      "Prob(H) (two-sided):                  0.80   Kurtosis:                         2.48\n",
      "===================================================================================\n",
      "\n",
      "Warnings:\n",
      "[1] Covariance matrix calculated using the outer product of gradients (complex-step).\n",
      "[2] Covariance matrix is singular or near-singular, with condition number 7.38e+26. Standard errors may be unstable.\n"
     ]
    }
   ],
   "source": [
    "mod = ARIMA(df['income_d1'][df.year<=2018], order=(2,0,2))\n",
    "res = mod.fit()\n",
    "print(res.summary())"
   ]
  },
  {
   "cell_type": "markdown",
   "id": "0f45aae9",
   "metadata": {},
   "source": [
    "## *add in plot diagnostics here*"
   ]
  },
  {
   "cell_type": "markdown",
   "id": "ed580708",
   "metadata": {},
   "source": [
    "d) ARMA PACF and ACF not valid \n",
    "AIC and BIC \n",
    "\n",
    "infromation criteria - these measure model complexity penalise us for model complexity using MLE \n",
    "    lower AIC/BIC is better we want equal performance with least complexity (on the training set \n",
    "    \n",
    "  ARMA - \n",
    "  Michael tested all different ps and qs to compare them in table and ARMA(1,1) \n",
    " note this doesnt refute that AR(3) was wrong as ARMA changes how lags and errors interact \n",
    " \n",
    "\n"
   ]
  },
  {
   "cell_type": "markdown",
   "id": "944c1676",
   "metadata": {},
   "source": [
    "e) Ljung and Box is to test the ACFS, \n",
    "H0 : complexity is adequate \n",
    "Ha: the model is too complex \n",
    "\n",
    " ARIMA(2,2) gets the lowest score here"
   ]
  },
  {
   "cell_type": "markdown",
   "id": "495bacf9",
   "metadata": {},
   "source": [
    "## f)  \n",
    "(predicted - observed)\n",
    "\n",
    "$\\Delta \\widehat{Income}_{2019|2018}$\n",
    "\n"
   ]
  },
  {
   "cell_type": "code",
   "execution_count": 49,
   "id": "9dbc5714",
   "metadata": {},
   "outputs": [
    {
     "name": "stderr",
     "output_type": "stream",
     "text": [
      "/Users/jackreid/opt/anaconda3/lib/python3.9/site-packages/statsmodels/tsa/base/tsa_model.py:834: ValueWarning: No supported index is available. Prediction results will be given with an integer index beginning at `start`.\n",
      "  return get_prediction_index(\n"
     ]
    },
    {
     "data": {
      "text/plain": [
       "28    4674.049151\n",
       "29    1875.151440\n",
       "Name: predicted_mean, dtype: float64"
      ]
     },
     "execution_count": 49,
     "metadata": {},
     "output_type": "execute_result"
    }
   ],
   "source": [
    "res.forecast(steps=2)"
   ]
  },
  {
   "cell_type": "code",
   "execution_count": 67,
   "id": "a3df5402",
   "metadata": {},
   "outputs": [
    {
     "data": {
      "text/plain": [
       "2666.950849"
      ]
     },
     "execution_count": 67,
     "metadata": {},
     "output_type": "execute_result"
    }
   ],
   "source": [
    "abs (4674.049151 -7341.0 )"
   ]
  },
  {
   "cell_type": "markdown",
   "id": "ad081df7",
   "metadata": {},
   "source": [
    "$\\Delta \\widehat{Income}_{2020|2018}$"
   ]
  },
  {
   "cell_type": "code",
   "execution_count": 66,
   "id": "c9d291c3",
   "metadata": {},
   "outputs": [
    {
     "name": "stderr",
     "output_type": "stream",
     "text": [
      "/Users/jackreid/opt/anaconda3/lib/python3.9/site-packages/statsmodels/tsa/base/tsa_model.py:834: ValueWarning: No supported index is available. Prediction results will be given with an integer index beginning at `start`.\n",
      "  return get_prediction_index(\n"
     ]
    },
    {
     "data": {
      "text/plain": [
       "28    4674.049151\n",
       "29    1875.151440\n",
       "30    3937.126428\n",
       "31    3413.167240\n",
       "Name: predicted_mean, dtype: float64"
      ]
     },
     "execution_count": 66,
     "metadata": {},
     "output_type": "execute_result"
    }
   ],
   "source": [
    "res.forecast(steps=4)"
   ]
  },
  {
   "cell_type": "markdown",
   "id": "79784553",
   "metadata": {},
   "source": [
    "$\\Delta \\widehat{Income}_{2020|2018}$"
   ]
  },
  {
   "cell_type": "code",
   "execution_count": 69,
   "id": "2b8f2544",
   "metadata": {},
   "outputs": [
    {
     "data": {
      "text/plain": [
       "3618.15144"
      ]
     },
     "execution_count": 69,
     "metadata": {},
     "output_type": "execute_result"
    }
   ],
   "source": [
    "abs (1875.151440 --1743.0 )"
   ]
  }
 ],
 "metadata": {
  "kernelspec": {
   "display_name": "Python 3 (ipykernel)",
   "language": "python",
   "name": "python3"
  },
  "language_info": {
   "codemirror_mode": {
    "name": "ipython",
    "version": 3
   },
   "file_extension": ".py",
   "mimetype": "text/x-python",
   "name": "python",
   "nbconvert_exporter": "python",
   "pygments_lexer": "ipython3",
   "version": "3.9.12"
  }
 },
 "nbformat": 4,
 "nbformat_minor": 5
}
